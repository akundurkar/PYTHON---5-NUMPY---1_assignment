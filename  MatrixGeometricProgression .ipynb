{
 "cells": [
  {
   "cell_type": "code",
   "execution_count": 4,
   "metadata": {},
   "outputs": [
    {
     "name": "stdout",
     "output_type": "stream",
     "text": [
      "\n",
      "\n",
      "Printing in increasing order:\n",
      "[[  1   1   1   1   1]\n",
      " [  1   2   4   8  16]\n",
      " [  1   3   9  27  81]\n",
      " [  1   4  16  64 256]\n",
      " [  1   5  25 125 625]]\n"
     ]
    }
   ],
   "source": [
    "#import numpy module\n",
    "import numpy as np\n",
    "\n",
    "def generate_vander_matrix(vector, no_of_columns, increasing):\n",
    "    #define numpy array as input\n",
    "    x = np.array(vector)\n",
    "    start, stop, step = 0, 0, 1\n",
    "    if not increasing:\n",
    "        stop = no_of_columns\n",
    "    else:\n",
    "        start, stop, step = no_of_columns - 1, -1, -1\n",
    "    print(\"\\n\")\n",
    "    print(\"Printing in {a} order:\".format(a=\"increasing\" if increasing else \"decreasing\"))\n",
    "    print(np.column_stack([x**(no_of_columns - 1 - i) for i in range(start, stop, step)]))\n",
    "\n",
    "generate_vander_matrix([1,2,3,4,5], 5, True)"
   ]
  },
  {
   "cell_type": "code",
   "execution_count": null,
   "metadata": {},
   "outputs": [],
   "source": []
  }
 ],
 "metadata": {
  "kernelspec": {
   "display_name": "Python 3",
   "language": "python",
   "name": "python3"
  },
  "language_info": {
   "codemirror_mode": {
    "name": "ipython",
    "version": 3
   },
   "file_extension": ".py",
   "mimetype": "text/x-python",
   "name": "python",
   "nbconvert_exporter": "python",
   "pygments_lexer": "ipython3",
   "version": "3.7.1"
  }
 },
 "nbformat": 4,
 "nbformat_minor": 2
}
